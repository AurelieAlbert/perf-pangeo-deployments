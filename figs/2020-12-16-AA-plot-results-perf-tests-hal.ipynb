{
 "cells": [
  {
   "cell_type": "markdown",
   "metadata": {},
   "source": [
    "# Résults"
   ]
  },
  {
   "cell_type": "code",
   "execution_count": 1,
   "metadata": {},
   "outputs": [],
   "source": [
    "import numpy as np\n",
    "\n",
    "import matplotlib.pyplot as plt\n",
    "import matplotlib \n",
    "import pandas as pd"
   ]
  },
  {
   "cell_type": "code",
   "execution_count": 2,
   "metadata": {},
   "outputs": [],
   "source": [
    "matplotlib.rc('xtick', labelsize=10) \n",
    "matplotlib.rc('ytick', labelsize=10) \n",
    "matplotlib.rcParams.update({'font.size': 10})"
   ]
  },
  {
   "cell_type": "code",
   "execution_count": 11,
   "metadata": {},
   "outputs": [],
   "source": [
    "ds=pd.read_csv('Resultats_tests_PANGEO_HPC-HAL-mono.csv')  "
   ]
  },
  {
   "cell_type": "code",
   "execution_count": 12,
   "metadata": {},
   "outputs": [
    {
     "data": {
      "text/html": [
       "<div>\n",
       "<style scoped>\n",
       "    .dataframe tbody tr th:only-of-type {\n",
       "        vertical-align: middle;\n",
       "    }\n",
       "\n",
       "    .dataframe tbody tr th {\n",
       "        vertical-align: top;\n",
       "    }\n",
       "\n",
       "    .dataframe thead th {\n",
       "        text-align: right;\n",
       "    }\n",
       "</style>\n",
       "<table border=\"1\" class=\"dataframe\">\n",
       "  <thead>\n",
       "    <tr style=\"text-align: right;\">\n",
       "      <th></th>\n",
       "      <th>Queue</th>\n",
       "      <th>Nb Noeuds</th>\n",
       "      <th>Workers</th>\n",
       "      <th>Cores</th>\n",
       "      <th>Memory in GB</th>\n",
       "      <th>Resultat1 in sec</th>\n",
       "      <th>Resultat2 in sec</th>\n",
       "      <th>Resultat3 in sec</th>\n",
       "    </tr>\n",
       "  </thead>\n",
       "  <tbody>\n",
       "    <tr>\n",
       "      <th>0</th>\n",
       "      <td>qdev</td>\n",
       "      <td>1</td>\n",
       "      <td>16</td>\n",
       "      <td>16</td>\n",
       "      <td>64.42</td>\n",
       "      <td>1411</td>\n",
       "      <td>504</td>\n",
       "      <td>490</td>\n",
       "    </tr>\n",
       "    <tr>\n",
       "      <th>1</th>\n",
       "      <td>qdev</td>\n",
       "      <td>2</td>\n",
       "      <td>32</td>\n",
       "      <td>32</td>\n",
       "      <td>120.00</td>\n",
       "      <td>744</td>\n",
       "      <td>420</td>\n",
       "      <td>300</td>\n",
       "    </tr>\n",
       "    <tr>\n",
       "      <th>2</th>\n",
       "      <td>qt72h</td>\n",
       "      <td>1</td>\n",
       "      <td>40</td>\n",
       "      <td>40</td>\n",
       "      <td>197.57</td>\n",
       "      <td>523</td>\n",
       "      <td>405</td>\n",
       "      <td>468</td>\n",
       "    </tr>\n",
       "  </tbody>\n",
       "</table>\n",
       "</div>"
      ],
      "text/plain": [
       "   Queue  Nb Noeuds  Workers  Cores  Memory in GB  Resultat1 in sec  \\\n",
       "0   qdev          1       16     16         64.42              1411   \n",
       "1   qdev          2       32     32        120.00               744   \n",
       "2  qt72h          1       40     40        197.57               523   \n",
       "\n",
       "   Resultat2 in sec  Resultat3 in sec  \n",
       "0               504               490  \n",
       "1               420               300  \n",
       "2               405               468  "
      ]
     },
     "execution_count": 12,
     "metadata": {},
     "output_type": "execute_result"
    }
   ],
   "source": [
    "ds"
   ]
  },
  {
   "cell_type": "code",
   "execution_count": 20,
   "metadata": {},
   "outputs": [],
   "source": [
    "workers=ds['Workers']\n",
    "cores=ds['Cores']\n",
    "memory=ds['Memory in GB']\n",
    "results=ds[['Resultat1 in sec','Resultat2 in sec','Resultat3 in sec']]\n",
    "mean_results=results.mean(axis=1)"
   ]
  },
  {
   "cell_type": "code",
   "execution_count": 6,
   "metadata": {},
   "outputs": [],
   "source": [
    "min_worker=workers.min()\n",
    "argmin_worker=workers.idxmin()\n",
    "result_min=mean_results[argmin_worker]\n",
    "scale=result_min/(workers/min_worker)"
   ]
  },
  {
   "cell_type": "code",
   "execution_count": 7,
   "metadata": {},
   "outputs": [
    {
     "name": "stderr",
     "output_type": "stream",
     "text": [
      "/Users/auraoupa/anaconda2/envs/pangeo-cloud/lib/python3.6/site-packages/matplotlib/cbook/__init__.py:1377: FutureWarning: Support for multi-dimensional indexing (e.g. `obj[:, None]`) is deprecated and will be removed in a future version.  Convert to a numpy array before indexing instead.\n",
      "  x[:, None]\n",
      "/Users/auraoupa/anaconda2/envs/pangeo-cloud/lib/python3.6/site-packages/matplotlib/axes/_base.py:237: FutureWarning: Support for multi-dimensional indexing (e.g. `obj[:, None]`) is deprecated and will be removed in a future version.  Convert to a numpy array before indexing instead.\n",
      "  x = x[:, np.newaxis]\n",
      "/Users/auraoupa/anaconda2/envs/pangeo-cloud/lib/python3.6/site-packages/matplotlib/axes/_base.py:239: FutureWarning: Support for multi-dimensional indexing (e.g. `obj[:, None]`) is deprecated and will be removed in a future version.  Convert to a numpy array before indexing instead.\n",
      "  y = y[:, np.newaxis]\n"
     ]
    },
    {
     "data": {
      "image/png": "[encoded data removed]",
      "text/plain": [
       "<Figure size 432x288 with 1 Axes>"
      ]
     },
     "metadata": {
      "needs_background": "light"
     },
     "output_type": "display_data"
    }
   ],
   "source": [
    "fig, ax = plt.subplots()\n",
    "fig.figsize=(8, 8)\n",
    "plt.errorbar(workers, results.mean(axis=1), yerr=results.std(axis=1),\n",
    "             ls=':',marker='o',ms=3,color='darkorange', \n",
    "             label='result HAL')\n",
    "plt.plot(workers, scale, \n",
    "             ls='-',marker='o',ms=3,color='darkorange', \n",
    "             label='scalable HAL')\n",
    "\n",
    "plt.legend(loc='center left', bbox_to_anchor=(1, 0.5))\n",
    "plt.xlabel('Number of Workers/Cores')\n",
    "plt.ylabel('Walltime in seconds')\n",
    "plt.title('Performance tests on HAL nodes')\n",
    "plt.savefig('Perf-hal-workers.png', bbox_inches='tight')"
   ]
  },
  {
   "cell_type": "code",
   "execution_count": 15,
   "metadata": {},
   "outputs": [],
   "source": [
    "min_memory=memory.min()\n",
    "argmin_memory=memory.idxmin()\n",
    "result_min_memory=mean_results[argmin_memory]\n",
    "scale_memory=result_min_memory/(memory/min_memory)"
   ]
  },
  {
   "cell_type": "code",
   "execution_count": 17,
   "metadata": {},
   "outputs": [
    {
     "data": {
      "image/png": "[encoded data removed]",
      "text/plain": [
       "<Figure size 432x288 with 1 Axes>"
      ]
     },
     "metadata": {
      "needs_background": "light"
     },
     "output_type": "display_data"
    }
   ],
   "source": [
    "fig, ax = plt.subplots()\n",
    "fig.figsize=(8, 8)\n",
    "plt.errorbar(memory, results.mean(axis=1), yerr=results.std(axis=1),\n",
    "             ls=':',marker='o',ms=3,color='darkorange', \n",
    "             label='results HAL')\n",
    "plt.plot(memory, scale_memory, \n",
    "             ls='-',marker='o',ms=3,color='darkorange', \n",
    "             label='scalable HAL')\n",
    "plt.legend(loc='center left', bbox_to_anchor=(1, 0.5))\n",
    "plt.xlabel('Memory in Gb')\n",
    "plt.ylabel('Walltime in seconds')\n",
    "plt.title('Performance tests on HAL nodes')\n",
    "plt.savefig('Perf-hal-memory.png', bbox_inches='tight')"
   ]
  },
  {
   "cell_type": "code",
   "execution_count": 23,
   "metadata": {},
   "outputs": [],
   "source": [
    "ds_multi_nosort=pd.read_csv('Resultats_tests_PANGEO_HPC-HAL-multi.csv') \n",
    "ds_multi=ds_multi_nosort.sort_values(by=['Cores'])"
   ]
  },
  {
   "cell_type": "code",
   "execution_count": 24,
   "metadata": {},
   "outputs": [
    {
     "data": {
      "text/html": [
       "<div>\n",
       "<style scoped>\n",
       "    .dataframe tbody tr th:only-of-type {\n",
       "        vertical-align: middle;\n",
       "    }\n",
       "\n",
       "    .dataframe tbody tr th {\n",
       "        vertical-align: top;\n",
       "    }\n",
       "\n",
       "    .dataframe thead th {\n",
       "        text-align: right;\n",
       "    }\n",
       "</style>\n",
       "<table border=\"1\" class=\"dataframe\">\n",
       "  <thead>\n",
       "    <tr style=\"text-align: right;\">\n",
       "      <th></th>\n",
       "      <th>Queue</th>\n",
       "      <th>Nb Noeuds</th>\n",
       "      <th>Workers</th>\n",
       "      <th>Cores</th>\n",
       "      <th>Memory in GB</th>\n",
       "      <th>Resultat1 in sec</th>\n",
       "      <th>Resultat2 in sec</th>\n",
       "      <th>Resultat3 in sec</th>\n",
       "    </tr>\n",
       "  </thead>\n",
       "  <tbody>\n",
       "    <tr>\n",
       "      <th>0</th>\n",
       "      <td>qdev</td>\n",
       "      <td>1</td>\n",
       "      <td>4</td>\n",
       "      <td>16</td>\n",
       "      <td>64.42</td>\n",
       "      <td>854</td>\n",
       "      <td>502</td>\n",
       "      <td>488.0</td>\n",
       "    </tr>\n",
       "    <tr>\n",
       "      <th>5</th>\n",
       "      <td>qt72h</td>\n",
       "      <td>1</td>\n",
       "      <td>6</td>\n",
       "      <td>24</td>\n",
       "      <td>128.85</td>\n",
       "      <td>719</td>\n",
       "      <td>700</td>\n",
       "      <td>710.0</td>\n",
       "    </tr>\n",
       "    <tr>\n",
       "      <th>4</th>\n",
       "      <td>qt72h</td>\n",
       "      <td>1</td>\n",
       "      <td>8</td>\n",
       "      <td>40</td>\n",
       "      <td>197.57</td>\n",
       "      <td>1486</td>\n",
       "      <td>1541</td>\n",
       "      <td>1540.0</td>\n",
       "    </tr>\n",
       "    <tr>\n",
       "      <th>3</th>\n",
       "      <td>qt1h</td>\n",
       "      <td>4</td>\n",
       "      <td>28</td>\n",
       "      <td>112</td>\n",
       "      <td>736.12</td>\n",
       "      <td>135</td>\n",
       "      <td>136</td>\n",
       "      <td>NaN</td>\n",
       "    </tr>\n",
       "    <tr>\n",
       "      <th>2</th>\n",
       "      <td>qt1h</td>\n",
       "      <td>5</td>\n",
       "      <td>40</td>\n",
       "      <td>200</td>\n",
       "      <td>920.00</td>\n",
       "      <td>122</td>\n",
       "      <td>121</td>\n",
       "      <td>129.0</td>\n",
       "    </tr>\n",
       "    <tr>\n",
       "      <th>1</th>\n",
       "      <td>qt1h</td>\n",
       "      <td>6</td>\n",
       "      <td>48</td>\n",
       "      <td>240</td>\n",
       "      <td>1100.00</td>\n",
       "      <td>112</td>\n",
       "      <td>108</td>\n",
       "      <td>108.0</td>\n",
       "    </tr>\n",
       "  </tbody>\n",
       "</table>\n",
       "</div>"
      ],
      "text/plain": [
       "   Queue  Nb Noeuds  Workers  Cores  Memory in GB  Resultat1 in sec  \\\n",
       "0   qdev          1        4     16         64.42               854   \n",
       "5  qt72h          1        6     24        128.85               719   \n",
       "4  qt72h          1        8     40        197.57              1486   \n",
       "3   qt1h          4       28    112        736.12               135   \n",
       "2   qt1h          5       40    200        920.00               122   \n",
       "1   qt1h          6       48    240       1100.00               112   \n",
       "\n",
       "   Resultat2 in sec  Resultat3 in sec  \n",
       "0               502             488.0  \n",
       "5               700             710.0  \n",
       "4              1541            1540.0  \n",
       "3               136               NaN  \n",
       "2               121             129.0  \n",
       "1               108             108.0  "
      ]
     },
     "execution_count": 24,
     "metadata": {},
     "output_type": "execute_result"
    }
   ],
   "source": [
    "ds_multi"
   ]
  },
  {
   "cell_type": "code",
   "execution_count": 25,
   "metadata": {},
   "outputs": [],
   "source": [
    "workers_multi=ds_multi['Workers']\n",
    "cores_multi=ds_multi['Cores']\n",
    "memory_multi=ds_multi['Memory in GB']\n",
    "results_multi=ds_multi[['Resultat1 in sec','Resultat2 in sec','Resultat3 in sec']]\n",
    "mean_results_multi=results_multi.mean(axis=1)"
   ]
  },
  {
   "cell_type": "code",
   "execution_count": 27,
   "metadata": {},
   "outputs": [
    {
     "data": {
      "image/png": "[encoded data removed]",
      "text/plain": [
       "<Figure size 432x288 with 1 Axes>"
      ]
     },
     "metadata": {
      "needs_background": "light"
     },
     "output_type": "display_data"
    }
   ],
   "source": [
    "fig, ax = plt.subplots()\n",
    "fig.figsize=(8, 8)\n",
    "plt.errorbar(cores, results.mean(axis=1), yerr=results.std(axis=1),\n",
    "             ls=':',marker='o',ms=3,color='darkorange', \n",
    "             label='result HAL - 1 thread per worker')\n",
    "plt.errorbar(cores_multi, results_multi.mean(axis=1), yerr=results_multi.std(axis=1),\n",
    "             ls=':',marker='o',ms=3,color='palevioletred', \n",
    "             label='result HAL - multi thread')\n",
    "\n",
    "plt.legend(loc='center left', bbox_to_anchor=(1, 0.5))\n",
    "plt.xlabel('Number of Cores')\n",
    "plt.ylabel('Walltime in seconds')\n",
    "plt.title('Performance tests on HAL nodes')\n",
    "plt.savefig('Perf-hal-cores-mono-multi.png', bbox_inches='tight')"
   ]
  },
  {
   "cell_type": "code",
   "execution_count": null,
   "metadata": {},
   "outputs": [],
   "source": []
  }
 ],
 "metadata": {
  "kernelspec": {
   "display_name": "pangeo_cloud",
   "language": "python",
   "name": "pangeo-cloud"
  },
  "language_info": {
   "codemirror_mode": {
    "name": "ipython",
    "version": 3
   },
   "file_extension": ".py",
   "mimetype": "text/x-python",
   "name": "python",
   "nbconvert_exporter": "python",
   "pygments_lexer": "ipython3",
   "version": "3.6.7"
  }
 },
 "nbformat": 4,
 "nbformat_minor": 2
}
